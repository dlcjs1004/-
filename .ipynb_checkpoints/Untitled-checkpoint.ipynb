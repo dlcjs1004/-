{
 "cells": [
  {
   "cell_type": "markdown",
   "metadata": {},
   "source": [
    "# Python 기초문법"
   ]
  },
  {
   "cell_type": "markdown",
   "metadata": {
    "ExecuteTime": {
     "end_time": "2021-01-09T13:50:35.801197Z",
     "start_time": "2021-01-09T13:50:35.793256Z"
    }
   },
   "source": [
    "sep의 용도"
   ]
  },
  {
   "cell_type": "code",
   "execution_count": 1,
   "metadata": {
    "ExecuteTime": {
     "end_time": "2021-01-09T13:50:08.967984Z",
     "start_time": "2021-01-09T13:50:08.962001Z"
    }
   },
   "outputs": [
    {
     "name": "stdout",
     "output_type": "stream",
     "text": [
      "010-2351-5761\n"
     ]
    }
   ],
   "source": [
    "num1=\"010\"\n",
    "num2=\"2351\"\n",
    "num3=\"5761\"\n",
    "\n",
    "print(num1, num2,num3, sep=\"-\")"
   ]
  },
  {
   "cell_type": "markdown",
   "metadata": {},
   "source": [
    "화면 출력하기"
   ]
  },
  {
   "cell_type": "code",
   "execution_count": 6,
   "metadata": {
    "ExecuteTime": {
     "end_time": "2021-01-09T13:52:53.168624Z",
     "start_time": "2021-01-09T13:52:51.989105Z"
    }
   },
   "outputs": [
    {
     "name": "stdout",
     "output_type": "stream",
     "text": [
      "나이를 입력하시오: 20\n",
      "나이:20세\n"
     ]
    }
   ],
   "source": [
    "age=int(input(\"나이를 입력하시오: \"))\n",
    "print(\"나이:\"+str(age)+\"세\")"
   ]
  },
  {
   "cell_type": "code",
   "execution_count": 17,
   "metadata": {
    "ExecuteTime": {
     "end_time": "2021-01-09T14:01:06.457031Z",
     "start_time": "2021-01-09T14:01:06.453041Z"
    }
   },
   "outputs": [
    {
     "name": "stdout",
     "output_type": "stream",
     "text": [
      "국어: 80, 영어: 85, 수학: 92\n"
     ]
    }
   ],
   "source": [
    "kor=80\n",
    "eng=85\n",
    "math=92\n",
    "print(\"국어: %d, 영어: %d, 수학: %d\" %(kor,eng,math))"
   ]
  },
  {
   "cell_type": "code",
   "execution_count": 19,
   "metadata": {
    "ExecuteTime": {
     "end_time": "2021-01-09T14:06:24.608287Z",
     "start_time": "2021-01-09T14:06:24.602267Z"
    }
   },
   "outputs": [
    {
     "name": "stdout",
     "output_type": "stream",
     "text": [
      "  573,     사자, 88.33\n"
     ]
    }
   ],
   "source": [
    " a =573\n",
    "b = \"사자\"\n",
    "c = 88.333333\n",
    "print(\"%5d, %6s, %.2f\" % (a,b,c))"
   ]
  },
  {
   "cell_type": "markdown",
   "metadata": {},
   "source": [
    "end 사용법\n",
    "end=\" \"옵션을 이용하면 줄바꿈 없이 공백 “ “을 출력한 다음 이어서 다음 문장을 출력합니다."
   ]
  },
  {
   "cell_type": "code",
   "execution_count": 20,
   "metadata": {
    "ExecuteTime": {
     "end_time": "2021-01-09T14:07:40.248751Z",
     "start_time": "2021-01-09T14:07:40.239773Z"
    }
   },
   "outputs": [
    {
     "name": "stdout",
     "output_type": "stream",
     "text": [
      "안녕하세요.\n",
      "반갑습니다~~~\n",
      "\n",
      "안녕하세요. 반갑습니다~~~\n",
      "\n",
      "goldmont\n",
      "@\n",
      "naver.com\n",
      "\n",
      "goldmont@naver.com\n"
     ]
    }
   ],
   "source": [
    "print(\"안녕하세요.\")\n",
    "print(\"반갑습니다~~~\")\n",
    "print()\n",
    "\n",
    "print(\"안녕하세요.\", end=\" \")\n",
    "print(\"반갑습니다~~~\")\n",
    "print()\n",
    "\n",
    "print(\"goldmont\")\n",
    "print(\"@\")\n",
    "print(\"naver.com\")\n",
    "print()\n",
    "\n",
    "print(\"goldmont\", end=\"\")\n",
    "print(\"@\", end=\"\")\n",
    "print(\"naver.com\")"
   ]
  },
  {
   "cell_type": "code",
   "execution_count": null,
   "metadata": {},
   "outputs": [],
   "source": []
  }
 ],
 "metadata": {
  "kernelspec": {
   "display_name": "Python 3",
   "language": "python",
   "name": "python3"
  },
  "language_info": {
   "codemirror_mode": {
    "name": "ipython",
    "version": 3
   },
   "file_extension": ".py",
   "mimetype": "text/x-python",
   "name": "python",
   "nbconvert_exporter": "python",
   "pygments_lexer": "ipython3",
   "version": "3.7.6"
  },
  "toc": {
   "base_numbering": 1,
   "nav_menu": {},
   "number_sections": true,
   "sideBar": true,
   "skip_h1_title": false,
   "title_cell": "Table of Contents",
   "title_sidebar": "Contents",
   "toc_cell": false,
   "toc_position": {},
   "toc_section_display": true,
   "toc_window_display": false
  },
  "varInspector": {
   "cols": {
    "lenName": 16,
    "lenType": 16,
    "lenVar": 40
   },
   "kernels_config": {
    "python": {
     "delete_cmd_postfix": "",
     "delete_cmd_prefix": "del ",
     "library": "var_list.py",
     "varRefreshCmd": "print(var_dic_list())"
    },
    "r": {
     "delete_cmd_postfix": ") ",
     "delete_cmd_prefix": "rm(",
     "library": "var_list.r",
     "varRefreshCmd": "cat(var_dic_list()) "
    }
   },
   "types_to_exclude": [
    "module",
    "function",
    "builtin_function_or_method",
    "instance",
    "_Feature"
   ],
   "window_display": false
  }
 },
 "nbformat": 4,
 "nbformat_minor": 4
}
